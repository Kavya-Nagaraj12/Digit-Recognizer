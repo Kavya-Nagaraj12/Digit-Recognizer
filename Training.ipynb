{
  "nbformat": 4,
  "nbformat_minor": 0,
  "metadata": {
    "colab": {
      "name": "Training.ipynb",
      "provenance": [],
      "collapsed_sections": []
    },
    "kernelspec": {
      "name": "python3",
      "display_name": "Python 3"
    },
    "language_info": {
      "name": "python"
    }
  },
  "cells": [
    {
      "cell_type": "code",
      "metadata": {
        "id": "c14SIq-RKt4b"
      },
      "source": [
        " from tensorflow import keras\n",
        "import matplotlib.pyplot as plt\n",
        "import pandas as pd\n",
        "import numpy as np"
      ],
      "execution_count": null,
      "outputs": []
    },
    {
      "cell_type": "code",
      "metadata": {
        "colab": {
          "base_uri": "https://localhost:8080/"
        },
        "id": "rIDEecIPYP4J",
        "outputId": "27c816e4-40ae-449e-c2cf-d7fc16cd84aa"
      },
      "source": [
        "(x_train, y_train), (x_test, y_test) = keras.datasets.mnist.load_data(path=\"mnist.npz\")"
      ],
      "execution_count": null,
      "outputs": [
        {
          "output_type": "stream",
          "text": [
            "Downloading data from https://storage.googleapis.com/tensorflow/tf-keras-datasets/mnist.npz\n",
            "11493376/11490434 [==============================] - 0s 0us/step\n"
          ],
          "name": "stdout"
        }
      ]
    },
    {
      "cell_type": "code",
      "metadata": {
        "colab": {
          "base_uri": "https://localhost:8080/"
        },
        "id": "A1BLvHNcZVQq",
        "outputId": "5d93d762-e1a9-4f39-fcad-a170cf6cf1d6"
      },
      "source": [
        "print(x_train.shape)\n",
        "print(x_test.shape)"
      ],
      "execution_count": null,
      "outputs": [
        {
          "output_type": "stream",
          "text": [
            "(60000, 28, 28)\n",
            "(10000, 28, 28)\n"
          ],
          "name": "stdout"
        }
      ]
    },
    {
      "cell_type": "code",
      "metadata": {
        "colab": {
          "base_uri": "https://localhost:8080/"
        },
        "id": "GzzolW2yaB0E",
        "outputId": "99709cb2-1f3b-4fe6-cf8e-bedfb887cdcb"
      },
      "source": [
        "y_train"
      ],
      "execution_count": null,
      "outputs": [
        {
          "output_type": "execute_result",
          "data": {
            "text/plain": [
              "array([5, 0, 4, ..., 5, 6, 8], dtype=uint8)"
            ]
          },
          "metadata": {
            "tags": []
          },
          "execution_count": 5
        }
      ]
    },
    {
      "cell_type": "code",
      "metadata": {
        "colab": {
          "base_uri": "https://localhost:8080/",
          "height": 282
        },
        "id": "kQ86rXgVaPi7",
        "outputId": "5234d5d3-b697-45eb-83ec-c62df8b3729a"
      },
      "source": [
        "plt.imshow(x_train[0],cmap='gray')\n",
        "print(y_train[0])"
      ],
      "execution_count": null,
      "outputs": [
        {
          "output_type": "stream",
          "text": [
            "5\n"
          ],
          "name": "stdout"
        },
        {
          "output_type": "display_data",
          "data": {
            "image/png": "[encoded data removed]",
            "text/plain": [
              "<Figure size 432x288 with 1 Axes>"
            ]
          },
          "metadata": {
            "tags": [],
            "needs_background": "light"
          }
        }
      ]
    },
    {
      "cell_type": "code",
      "metadata": {
        "id": "gfU94j7saeha"
      },
      "source": [
        "from keras.layers import Dropout\n",
        "model = keras.Sequential()\n",
        "model.add(keras.layers.Flatten(input_shape = (28,28)))\n",
        "model.add(keras.layers.Dense(400,activation ='relu'))\n",
        "model.add(keras.layers.Dense(10,activation ='softmax'))"
      ],
      "execution_count": null,
      "outputs": []
    },
    {
      "cell_type": "code",
      "metadata": {
        "id": "iTwIc_u6af9O"
      },
      "source": [
        "\n",
        "model.compile(optimizer='adam',loss='sparse_categorical_crossentropy',metrics=['accuracy'])\n"
      ],
      "execution_count": null,
      "outputs": []
    },
    {
      "cell_type": "code",
      "metadata": {
        "colab": {
          "base_uri": "https://localhost:8080/"
        },
        "id": "vxmuE2PUap6t",
        "outputId": "eb5c1353-3a20-4788-8c20-06e9db14b2d8"
      },
      "source": [
        "history = model.fit(x_train, y_train, epochs=10, validation_data=(x_test, y_test))\n"
      ],
      "execution_count": null,
      "outputs": [
        {
          "output_type": "stream",
          "text": [
            "Epoch 1/10\n",
            "1875/1875 [==============================] - 8s 4ms/step - loss: 8.6012 - accuracy: 0.8621 - val_loss: 0.4119 - val_accuracy: 0.9288\n",
            "Epoch 2/10\n",
            "1875/1875 [==============================] - 8s 4ms/step - loss: 0.3254 - accuracy: 0.9357 - val_loss: 0.3630 - val_accuracy: 0.9333\n",
            "Epoch 3/10\n",
            "1875/1875 [==============================] - 7s 4ms/step - loss: 0.2631 - accuracy: 0.9418 - val_loss: 0.3776 - val_accuracy: 0.9312\n",
            "Epoch 4/10\n",
            "1875/1875 [==============================] - 7s 4ms/step - loss: 0.2709 - accuracy: 0.9441 - val_loss: 0.3929 - val_accuracy: 0.9326\n",
            "Epoch 5/10\n",
            "1875/1875 [==============================] - 7s 4ms/step - loss: 0.2044 - accuracy: 0.9559 - val_loss: 0.3730 - val_accuracy: 0.9421\n",
            "Epoch 6/10\n",
            "1875/1875 [==============================] - 7s 4ms/step - loss: 0.2264 - accuracy: 0.9524 - val_loss: 0.2933 - val_accuracy: 0.9450\n",
            "Epoch 7/10\n",
            "1875/1875 [==============================] - 8s 4ms/step - loss: 0.2000 - accuracy: 0.9594 - val_loss: 0.3085 - val_accuracy: 0.9523\n",
            "Epoch 8/10\n",
            "1875/1875 [==============================] - 7s 4ms/step - loss: 0.1869 - accuracy: 0.9604 - val_loss: 0.3382 - val_accuracy: 0.9442\n",
            "Epoch 9/10\n",
            "1875/1875 [==============================] - 8s 4ms/step - loss: 0.1861 - accuracy: 0.9624 - val_loss: 0.3484 - val_accuracy: 0.9550\n",
            "Epoch 10/10\n",
            "1875/1875 [==============================] - 8s 4ms/step - loss: 0.1825 - accuracy: 0.9639 - val_loss: 0.3428 - val_accuracy: 0.9537\n"
          ],
          "name": "stdout"
        }
      ]
    },
    {
      "cell_type": "code",
      "metadata": {
        "colab": {
          "base_uri": "https://localhost:8080/",
          "height": 282
        },
        "id": "ut4EwVGva4pi",
        "outputId": "c7331878-6fab-4e7b-f74f-f41c6771072d"
      },
      "source": [
        "\n",
        "loss = pd.DataFrame(model.history.history)\n",
        "loss.plot()\n"
      ],
      "execution_count": null,
      "outputs": [
        {
          "output_type": "execute_result",
          "data": {
            "text/plain": [
              "<matplotlib.axes._subplots.AxesSubplot at 0x7f8c3af38910>"
            ]
          },
          "metadata": {
            "tags": []
          },
          "execution_count": 10
        },
        {
          "output_type": "display_data",
          "data": {
            "image/png": "[encoded data removed]",
            "text/plain": [
              "<Figure size 432x288 with 1 Axes>"
            ]
          },
          "metadata": {
            "tags": [],
            "needs_background": "light"
          }
        }
      ]
    },
    {
      "cell_type": "code",
      "metadata": {
        "colab": {
          "base_uri": "https://localhost:8080/"
        },
        "id": "l_Epz-iWbbiE",
        "outputId": "cbb77e01-4097-4a18-9f8e-1a51dae8042b"
      },
      "source": [
        "y_pred = model.predict(x_test)\n",
        "y_pred = np.argmax(y_pred,axis = 1)\n",
        "y_pred"
      ],
      "execution_count": null,
      "outputs": [
        {
          "output_type": "execute_result",
          "data": {
            "text/plain": [
              "array([7, 2, 1, ..., 4, 5, 6])"
            ]
          },
          "metadata": {
            "tags": []
          },
          "execution_count": 11
        }
      ]
    },
    {
      "cell_type": "code",
      "metadata": {
        "colab": {
          "base_uri": "https://localhost:8080/"
        },
        "id": "wH06tOA9bn9x",
        "outputId": "41c6cf25-80d7-4e05-823e-fba4f1463850"
      },
      "source": [
        "\n",
        "y_test\n"
      ],
      "execution_count": null,
      "outputs": [
        {
          "output_type": "execute_result",
          "data": {
            "text/plain": [
              "array([7, 2, 1, ..., 4, 5, 6], dtype=uint8)"
            ]
          },
          "metadata": {
            "tags": []
          },
          "execution_count": 12
        }
      ]
    },
    {
      "cell_type": "code",
      "metadata": {
        "colab": {
          "base_uri": "https://localhost:8080/"
        },
        "id": "y3fyyy9ab0yF",
        "outputId": "f885174b-eeeb-4a4b-9db8-bfc148ebb19c"
      },
      "source": [
        "from sklearn.metrics import accuracy_score,classification_report\n",
        "accuracy_score(y_pred,y_test)*100\n"
      ],
      "execution_count": null,
      "outputs": [
        {
          "output_type": "execute_result",
          "data": {
            "text/plain": [
              "95.37"
            ]
          },
          "metadata": {
            "tags": []
          },
          "execution_count": 13
        }
      ]
    },
    {
      "cell_type": "code",
      "metadata": {
        "colab": {
          "base_uri": "https://localhost:8080/"
        },
        "id": "diXuxLDPZWZb",
        "outputId": "dcf7ab2b-2e5c-474d-f2e7-13047a069337"
      },
      "source": [
        "x_train[0].shape"
      ],
      "execution_count": null,
      "outputs": [
        {
          "output_type": "execute_result",
          "data": {
            "text/plain": [
              "(28, 28)"
            ]
          },
          "metadata": {
            "tags": []
          },
          "execution_count": 14
        }
      ]
    },
    {
      "cell_type": "code",
      "metadata": {
        "colab": {
          "base_uri": "https://localhost:8080/"
        },
        "id": "AjZHyE1lb5iA",
        "outputId": "a2dc8814-909c-4745-f880-73aa5a4e7420"
      },
      "source": [
        "print(classification_report(y_pred,y_test))"
      ],
      "execution_count": null,
      "outputs": [
        {
          "output_type": "stream",
          "text": [
            "              precision    recall  f1-score   support\n",
            "\n",
            "           0       0.97      0.98      0.97       963\n",
            "           1       0.98      0.99      0.98      1131\n",
            "           2       0.94      0.97      0.96      1001\n",
            "           3       0.93      0.95      0.94       991\n",
            "           4       0.96      0.96      0.96       988\n",
            "           5       0.93      0.96      0.95       860\n",
            "           6       0.98      0.96      0.97       983\n",
            "           7       0.96      0.96      0.96      1022\n",
            "           8       0.95      0.86      0.90      1077\n",
            "           9       0.93      0.95      0.94       984\n",
            "\n",
            "    accuracy                           0.95     10000\n",
            "   macro avg       0.95      0.95      0.95     10000\n",
            "weighted avg       0.95      0.95      0.95     10000\n",
            "\n"
          ],
          "name": "stdout"
        }
      ]
    },
    {
      "cell_type": "code",
      "metadata": {
        "id": "jcHSEMRUb_7-"
      },
      "source": [
        "model.save('Digit_Recognizer.hdf5')"
      ],
      "execution_count": null,
      "outputs": []
    }
  ]
}